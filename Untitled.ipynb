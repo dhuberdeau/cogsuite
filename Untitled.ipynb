{
 "cells": [
  {
   "cell_type": "code",
   "execution_count": 1,
   "metadata": {},
   "outputs": [],
   "source": [
    "import numpy as np\n",
    "import matplotlib.pyplot as plt\n",
    "import pyaudio\n",
    "import threading"
   ]
  },
  {
   "cell_type": "code",
   "execution_count": null,
   "metadata": {},
   "outputs": [
    {
     "name": "stdout",
     "output_type": "stream",
     "text": [
      "Recording... Press Ctrl+C to stop.\n"
     ]
    },
    {
     "data": {
      "image/png": "[encoded data removed]",
      "text/plain": [
       "<Figure size 432x288 with 1 Axes>"
      ]
     },
     "metadata": {
      "needs_background": "light"
     },
     "output_type": "display_data"
    },
    {
     "name": "stderr",
     "output_type": "stream",
     "text": [
      "Exception in thread Thread-4:\n",
      "Traceback (most recent call last):\n",
      "  File \"/Users/david/anaconda3/envs/mdp/lib/python3.6/threading.py\", line 916, in _bootstrap_inner\n",
      "    self.run()\n",
      "  File \"/Users/david/anaconda3/envs/mdp/lib/python3.6/threading.py\", line 864, in run\n",
      "    self._target(*self._args, **self._kwargs)\n",
      "  File \"<ipython-input-2-03f6920f6f10>\", line 28, in update_plot\n",
      "    plt.plot(np.arange(len(audio_signal)), audio_signal)\n",
      "  File \"/Users/david/anaconda3/envs/mdp/lib/python3.6/site-packages/matplotlib/pyplot.py\", line 2811, in plot\n",
      "    is not None else {}), **kwargs)\n",
      "  File \"/Users/david/anaconda3/envs/mdp/lib/python3.6/site-packages/matplotlib/__init__.py\", line 1810, in inner\n",
      "    return func(ax, *args, **kwargs)\n",
      "  File \"/Users/david/anaconda3/envs/mdp/lib/python3.6/site-packages/matplotlib/axes/_axes.py\", line 1611, in plot\n",
      "    for line in self._get_lines(*args, **kwargs):\n",
      "  File \"/Users/david/anaconda3/envs/mdp/lib/python3.6/site-packages/matplotlib/axes/_base.py\", line 393, in _grab_next_args\n",
      "    yield from self._plot_args(this, kwargs)\n",
      "  File \"/Users/david/anaconda3/envs/mdp/lib/python3.6/site-packages/matplotlib/axes/_base.py\", line 370, in _plot_args\n",
      "    x, y = self._xy_from_xy(x, y)\n",
      "  File \"/Users/david/anaconda3/envs/mdp/lib/python3.6/site-packages/matplotlib/axes/_base.py\", line 231, in _xy_from_xy\n",
      "    \"have shapes {} and {}\".format(x.shape, y.shape))\n",
      "ValueError: x and y must have same first dimension, but have shapes (115712,) and (116736,)\n",
      "\n"
     ]
    }
   ],
   "source": [
    "\n",
    "\n",
    "# Constants\n",
    "CHUNK_SIZE = 1024  # Number of audio frames per buffer\n",
    "FORMAT = pyaudio.paInt16\n",
    "CHANNELS = 1  # Mono audio input\n",
    "RATE = 44100  # Sample rate in Hz\n",
    "PLOT_INTERVAL = 100  # Update the plot every 100 chunks (adjust as needed)\n",
    "\n",
    "# Initialize PyAudio\n",
    "audio = pyaudio.PyAudio()\n",
    "\n",
    "# Create an empty buffer for audio data\n",
    "audio_buffer = np.zeros(CHUNK_SIZE)\n",
    "\n",
    "# Create a list to store the audio signal\n",
    "audio_signal = []\n",
    "\n",
    "# Create a flag to control the audio recording\n",
    "recording = True\n",
    "\n",
    "# Create a function to continuously update the plot\n",
    "def update_plot():\n",
    "    global audio_signal\n",
    "    while recording:\n",
    "        if len(audio_signal) > CHUNK_SIZE * PLOT_INTERVAL:\n",
    "            plt.clf()\n",
    "            plt.plot(np.arange(len(audio_signal)), audio_signal)\n",
    "            plt.xlabel('Time (frames)')\n",
    "            plt.ylabel('Amplitude')\n",
    "            plt.title('Live Audio Signal')\n",
    "            plt.pause(0.01)\n",
    "\n",
    "# Create a thread for the plot updating function\n",
    "plot_thread = threading.Thread(target=update_plot)\n",
    "plot_thread.start()\n",
    "\n",
    "# Create an audio stream for input\n",
    "stream = audio.open(format=FORMAT, channels=CHANNELS,\n",
    "                    rate=RATE, input=True,\n",
    "                    frames_per_buffer=CHUNK_SIZE)\n",
    "\n",
    "print(\"Recording... Press Ctrl+C to stop.\")\n",
    "\n",
    "try:\n",
    "    while recording:\n",
    "        data = stream.read(CHUNK_SIZE)\n",
    "        audio_buffer = np.frombuffer(data, dtype=np.int16)\n",
    "        audio_signal.extend(audio_buffer)\n",
    "\n",
    "except KeyboardInterrupt:\n",
    "    print(\"Recording stopped.\")\n",
    "\n",
    "# Close the audio stream and terminate PyAudio\n",
    "stream.stop_stream()\n",
    "stream.close()\n",
    "audio.terminate()\n",
    "\n",
    "# Stop the plot thread\n",
    "recording = False\n",
    "plot_thread.join()\n",
    "\n",
    "# Display the final audio signal plot\n",
    "plt.plot(np.arange(len(audio_signal)), audio_signal)\n",
    "plt.xlabel('Time (frames)')\n",
    "plt.ylabel('Amplitude')\n",
    "plt.title('Final Audio Signal')\n",
    "plt.show()"
   ]
  },
  {
   "cell_type": "code",
   "execution_count": null,
   "metadata": {},
   "outputs": [],
   "source": []
  }
 ],
 "metadata": {
  "kernelspec": {
   "display_name": "Python 3",
   "language": "python",
   "name": "python3"
  },
  "language_info": {
   "codemirror_mode": {
    "name": "ipython",
    "version": 3
   },
   "file_extension": ".py",
   "mimetype": "text/x-python",
   "name": "python",
   "nbconvert_exporter": "python",
   "pygments_lexer": "ipython3",
   "version": "3.6.8"
  }
 },
 "nbformat": 4,
 "nbformat_minor": 2
}
